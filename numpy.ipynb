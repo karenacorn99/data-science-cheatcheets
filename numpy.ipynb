{
 "cells": [
  {
   "cell_type": "markdown",
   "metadata": {},
   "source": [
    "## Comprehensive Numpy Usage & Examples ##"
   ]
  },
  {
   "cell_type": "code",
   "execution_count": 1,
   "metadata": {},
   "outputs": [],
   "source": [
    "import numpy as np"
   ]
  },
  {
   "cell_type": "markdown",
   "metadata": {},
   "source": [
    "#### Creation ####"
   ]
  },
  {
   "cell_type": "code",
   "execution_count": 14,
   "metadata": {},
   "outputs": [
    {
     "name": "stdout",
     "output_type": "stream",
     "text": [
      "<class 'numpy.ndarray'>\n",
      "<class 'numpy.ndarray'>\n"
     ]
    },
    {
     "data": {
      "text/plain": [
       "array([[1, 2, 3, 4]])"
      ]
     },
     "execution_count": 14,
     "metadata": {},
     "output_type": "execute_result"
    }
   ],
   "source": [
    "a = np.array([[1,2],[3,4]])\n",
    "print(type(a))\n",
    "print(type(a[0]))\n",
    "b = np.array([1,2,3,4], ndmin=2)\n",
    "b"
   ]
  },
  {
   "cell_type": "code",
   "execution_count": 38,
   "metadata": {},
   "outputs": [
    {
     "data": {
      "text/plain": [
       "array([[0, 0, 0],\n",
       "       [0, 0, 0]])"
      ]
     },
     "execution_count": 38,
     "metadata": {},
     "output_type": "execute_result"
    }
   ],
   "source": [
    "'''\n",
    "numpy.empty(shape, dtype = float, order = 'C')\n",
    "'''\n",
    "a = np.empty((2, 3), dtype=int)\n",
    "a"
   ]
  },
  {
   "cell_type": "code",
   "execution_count": null,
   "metadata": {},
   "outputs": [],
   "source": [
    "'''\n",
    "numpy.zeros(shape, dtype = float, order = 'C')\n",
    "numpy.ones(shape, dtype = None, order = 'C')\n",
    "'''"
   ]
  },
  {
   "cell_type": "markdown",
   "metadata": {},
   "source": [
    "#### Attributes ####"
   ]
  },
  {
   "cell_type": "code",
   "execution_count": 35,
   "metadata": {},
   "outputs": [
    {
     "data": {
      "text/plain": [
       "(2, 2)"
      ]
     },
     "execution_count": 35,
     "metadata": {},
     "output_type": "execute_result"
    }
   ],
   "source": [
    "# shape\n",
    "b.shape"
   ]
  },
  {
   "cell_type": "code",
   "execution_count": 18,
   "metadata": {},
   "outputs": [
    {
     "data": {
      "text/plain": [
       "array([[1, 2],\n",
       "       [3, 4]])"
      ]
     },
     "execution_count": 18,
     "metadata": {},
     "output_type": "execute_result"
    }
   ],
   "source": [
    "b.shape = (2,2) # equivalent to reshape\n",
    "b"
   ]
  },
  {
   "cell_type": "code",
   "execution_count": 26,
   "metadata": {},
   "outputs": [
    {
     "name": "stdout",
     "output_type": "stream",
     "text": [
      "[0 1 2 3 4 5]\n"
     ]
    },
    {
     "data": {
      "text/plain": [
       "3"
      ]
     },
     "execution_count": 26,
     "metadata": {},
     "output_type": "execute_result"
    }
   ],
   "source": [
    "# ndim\n",
    "a = np.arange(6)\n",
    "print(a)\n",
    "a = a.reshape((2, 3, 1))\n",
    "a.ndim"
   ]
  },
  {
   "cell_type": "code",
   "execution_count": 27,
   "metadata": {},
   "outputs": [
    {
     "data": {
      "text/plain": [
       "8"
      ]
     },
     "execution_count": 27,
     "metadata": {},
     "output_type": "execute_result"
    }
   ],
   "source": [
    "# itemsize\n",
    "a.itemsize"
   ]
  },
  {
   "cell_type": "code",
   "execution_count": 34,
   "metadata": {},
   "outputs": [
    {
     "data": {
      "text/plain": [
       "  C_CONTIGUOUS : True\n",
       "  F_CONTIGUOUS : False\n",
       "  OWNDATA : False\n",
       "  WRITEABLE : True\n",
       "  ALIGNED : True\n",
       "  WRITEBACKIFCOPY : False\n",
       "  UPDATEIFCOPY : False"
      ]
     },
     "execution_count": 34,
     "metadata": {},
     "output_type": "execute_result"
    }
   ],
   "source": [
    "# flags\n",
    "a.flags"
   ]
  },
  {
   "cell_type": "markdown",
   "metadata": {},
   "source": [
    "#### Changing Shape ####"
   ]
  },
  {
   "cell_type": "code",
   "execution_count": 32,
   "metadata": {},
   "outputs": [
    {
     "name": "stdout",
     "output_type": "stream",
     "text": [
      "orginal array\n",
      " [0 1 2 3 4 5 6 7]\n",
      "reshaped array\n",
      " [[0 1]\n",
      " [2 3]\n",
      " [4 5]\n",
      " [6 7]]\n",
      "reshaped array\n",
      " [[[0]\n",
      "  [1]\n",
      "  [2]\n",
      "  [3]]\n",
      "\n",
      " [[4]\n",
      "  [5]\n",
      "  [6]\n",
      "  [7]]]\n"
     ]
    },
    {
     "data": {
      "text/plain": [
       "array([[0, 1],\n",
       "       [2, 3],\n",
       "       [4, 5],\n",
       "       [6, 7]])"
      ]
     },
     "execution_count": 32,
     "metadata": {},
     "output_type": "execute_result"
    }
   ],
   "source": [
    "\"\"\"\n",
    "numpy.reshape(arr, newshape, order')\n",
    "    arr: Array to be reshaped\n",
    "    newshape: int or tuple of int. New shape should be compatible to the original shape\n",
    "    order: 'C' for C style, 'F' for Fortran style, 'A' means Fortran like order if an array is stored in Fortran-like contiguous memory, C style otherwise\n",
    "\"\"\"\n",
    "a = np.arange(8)\n",
    "print('orginal array\\n', a)\n",
    "b = np.reshape(a, (4,2))\n",
    "print('reshaped array\\n', b)\n",
    "c = b.reshape((2,4,1))\n",
    "print('reshaped array\\n', c)\n",
    "b.reshape((4,-1))"
   ]
  },
  {
   "cell_type": "code",
   "execution_count": 16,
   "metadata": {},
   "outputs": [
    {
     "name": "stdout",
     "output_type": "stream",
     "text": [
      "original array\n",
      " [[[0]\n",
      "  [1]\n",
      "  [2]\n",
      "  [3]]\n",
      "\n",
      " [[4]\n",
      "  [5]\n",
      "  [6]\n",
      "  [7]]]\n",
      "flattened array\n",
      " [0 1 2 3 4 5 6 7]\n"
     ]
    }
   ],
   "source": [
    "\"\"\"\n",
    "np.ndarray.flat\n",
    "    This function returns a 1-D iterator over the array. It behaves similar to Python's built-in iterator.\n",
    "\"\"\"\n",
    "print('original array\\n', c)\n",
    "flat_array = c.flat\n",
    "print('flattened array\\n', np.array(flat_array))"
   ]
  },
  {
   "cell_type": "code",
   "execution_count": 22,
   "metadata": {},
   "outputs": [
    {
     "name": "stdout",
     "output_type": "stream",
     "text": [
      "[[[0]\n",
      "  [1]\n",
      "  [2]\n",
      "  [3]]\n",
      "\n",
      " [[4]\n",
      "  [5]\n",
      "  [6]\n",
      "  [7]]]\n"
     ]
    }
   ],
   "source": [
    "\"\"\"\n",
    "ndarray.flatten(order)\n",
    "    This function returns a copy of an array collapsed into one dimension. \n",
    "    order: see reshape\n",
    "\"\"\"\n",
    "flattened_array = c.flatten()\n",
    "flattened_array[0] = 1000\n",
    "print(c)"
   ]
  },
  {
   "cell_type": "code",
   "execution_count": 26,
   "metadata": {},
   "outputs": [
    {
     "name": "stdout",
     "output_type": "stream",
     "text": [
      "[[[1000]\n",
      "  [   1]\n",
      "  [   2]\n",
      "  [   3]]\n",
      "\n",
      " [[   4]\n",
      "  [   5]\n",
      "  [   6]\n",
      "  [   7]]]\n"
     ]
    }
   ],
   "source": [
    "\"\"\"\n",
    "numpy.ravel(a, order)\n",
    "    This function returns a flattened one-dimensional array. \n",
    "    A copy is made only if needed. \n",
    "    The returned array will have the same type as that of the input array. \n",
    "\"\"\"\n",
    "ravelled_array = c.ravel()\n",
    "ravelled_array[0] = 1000\n",
    "print(c)\n",
    "# difference between flatten & ravel():\n",
    "# flatten always return a copy, ravel may not\n",
    "# ie whether modifying array changes original array"
   ]
  },
  {
   "cell_type": "markdown",
   "metadata": {},
   "source": [
    "#### Transpose Operations ####"
   ]
  },
  {
   "cell_type": "code",
   "execution_count": 40,
   "metadata": {},
   "outputs": [
    {
     "name": "stdout",
     "output_type": "stream",
     "text": [
      "original\n",
      " [[[ 0]\n",
      "  [ 1]\n",
      "  [ 2]\n",
      "  [ 3]]\n",
      "\n",
      " [[ 4]\n",
      "  [ 5]\n",
      "  [ 6]\n",
      "  [ 7]]\n",
      "\n",
      " [[ 8]\n",
      "  [ 9]\n",
      "  [10]\n",
      "  [11]]]\n",
      "transposed\n",
      " [[[ 0  4  8]\n",
      "  [ 1  5  9]\n",
      "  [ 2  6 10]\n",
      "  [ 3  7 11]]]\n"
     ]
    }
   ],
   "source": [
    "\"\"\"\n",
    "numpy.transpose(arr, axes)\n",
    "    axes: List of ints, corresponding to the dimensions. By default, the dimensions are reversed\n",
    "\"\"\"\n",
    "a = np.arange(12).reshape((3,4,1))\n",
    "print('original\\n', a)\n",
    "a_t = np.transpose(a, axes=[2,1,0])\n",
    "print('transposed\\n', a_t)"
   ]
  },
  {
   "cell_type": "code",
   "execution_count": 41,
   "metadata": {},
   "outputs": [
    {
     "data": {
      "text/plain": [
       "array([[[ 0,  4,  8],\n",
       "        [ 1,  5,  9],\n",
       "        [ 2,  6, 10],\n",
       "        [ 3,  7, 11]]])"
      ]
     },
     "execution_count": 41,
     "metadata": {},
     "output_type": "execute_result"
    }
   ],
   "source": [
    "\"\"\"\n",
    "numpy.ndarray.T\n",
    "    This function belongs to ndarray class. It behaves similar to numpy.transpose.\n",
    "\"\"\"\n",
    "a.T"
   ]
  },
  {
   "cell_type": "code",
   "execution_count": 49,
   "metadata": {},
   "outputs": [
    {
     "name": "stdout",
     "output_type": "stream",
     "text": [
      "orginal\n",
      " (3, 4, 5, 6)\n",
      "rolled\n",
      " (3, 6, 4, 5)\n"
     ]
    }
   ],
   "source": [
    "\"\"\"\n",
    "numpy.rollaxis(arr, axis, start)\n",
    "    This function rolls the specified axis backwards, until it lies in a specified position. \n",
    "    axis: Axis to roll backwards. The position of the other axes do not change relative to one another\n",
    "    start: Zero by default leading to the complete roll. Rolls until it reaches the specified position\n",
    "\"\"\"\n",
    "a = np.ones((3,4,5,6))\n",
    "print('orginal\\n', a.shape)\n",
    "rolled = np.rollaxis(a, 3, 1)\n",
    "print('rolled\\n', rolled.shape)\n"
   ]
  },
  {
   "cell_type": "code",
   "execution_count": 50,
   "metadata": {},
   "outputs": [
    {
     "name": "stdout",
     "output_type": "stream",
     "text": [
      "original (2, 3, 4, 6)\n",
      "swapped (6, 3, 4, 2)\n"
     ]
    }
   ],
   "source": [
    "\"\"\"\n",
    "numpy.swapaxes(arr, axis1, axis2)\n",
    "    This function interchanges the two axes of an array.\n",
    "\"\"\"\n",
    "a = np.ones((2,3,4,6))\n",
    "print('original', a.shape)\n",
    "b = np.swapaxes(a, 0, 3)\n",
    "print('swapped', b.shape)"
   ]
  },
  {
   "cell_type": "markdown",
   "metadata": {},
   "source": [
    "#### Changing Dimensions ####"
   ]
  },
  {
   "cell_type": "code",
   "execution_count": null,
   "metadata": {},
   "outputs": [],
   "source": []
  },
  {
   "cell_type": "markdown",
   "metadata": {},
   "source": [
    "#### Array Manipulation ####"
   ]
  },
  {
   "cell_type": "code",
   "execution_count": 39,
   "metadata": {},
   "outputs": [
    {
     "name": "stdout",
     "output_type": "stream",
     "text": [
      "axis=0 concatenation\n",
      "[[ 1  2]\n",
      " [ 3  4]\n",
      " [ 5  6]\n",
      " [ 7  8]\n",
      " [ 9 10]\n",
      " [11 12]]\n",
      "axis=1 concatenation\n",
      "[[ 1  2  5  6  9 10]\n",
      " [ 3  4  7  8 11 12]]\n"
     ]
    }
   ],
   "source": [
    "\"\"\" \n",
    "numpy.concatenate((a1, a2, ...), axis)\n",
    "    (a1, a2, ...): Sequence of arrays of the same type\n",
    "    axis: Axis along which arrays have to be joined. Default is 0\n",
    "\"\"\"\n",
    "a = np.array([[1,2],[3,4]])\n",
    "b = np.array([[5,6],[7,8]])\n",
    "c = np.array([[9,10],[11, 12]])\n",
    "join_list = [a, b, c]\n",
    "print('axis=0 concatenation')\n",
    "print(np.concatenate(join_list, axis=0))\n",
    "print('axis=1 concatenation')\n",
    "print(np.concatenate(join_list, axis=1))"
   ]
  },
  {
   "cell_type": "code",
   "execution_count": 38,
   "metadata": {},
   "outputs": [
    {
     "name": "stdout",
     "output_type": "stream",
     "text": [
      "axis0\n",
      " [[[1]\n",
      "  [2]]\n",
      "\n",
      " [[3]\n",
      "  [4]]\n",
      "\n",
      " [[5]\n",
      "  [6]]\n",
      "\n",
      " [[7]\n",
      "  [8]]]\n",
      "axis1\n",
      " [[[1]\n",
      "  [2]\n",
      "  [5]\n",
      "  [6]]\n",
      "\n",
      " [[3]\n",
      "  [4]\n",
      "  [7]\n",
      "  [8]]]\n",
      "axis2\n",
      " [[[1 5]\n",
      "  [2 6]]\n",
      "\n",
      " [[3 7]\n",
      "  [4 8]]]\n"
     ]
    }
   ],
   "source": [
    "d = np.array([[[1],[2]],[[3],[4]]])\n",
    "e = np.array([[[5],[6]],[[7],[8]]])\n",
    "print('axis0\\n', np.concatenate((d, e), axis=0))\n",
    "print('axis1\\n', np.concatenate((d, e), axis=1))\n",
    "print('axis2\\n', np.concatenate((d, e), axis=2))"
   ]
  },
  {
   "cell_type": "code",
   "execution_count": 37,
   "metadata": {},
   "outputs": [
    {
     "name": "stdout",
     "output_type": "stream",
     "text": [
      "axis0\n",
      " [[[ 1  2]\n",
      "  [ 3  4]]\n",
      "\n",
      " [[ 5  6]\n",
      "  [ 7  8]]\n",
      "\n",
      " [[ 9 10]\n",
      "  [11 12]]]\n",
      "axis1\n",
      " [[[ 1  2]\n",
      "  [ 5  6]\n",
      "  [ 9 10]]\n",
      "\n",
      " [[ 3  4]\n",
      "  [ 7  8]\n",
      "  [11 12]]]\n"
     ]
    }
   ],
   "source": [
    "\"\"\"\n",
    "numpy.stack(arrays, axis)\n",
    "    arrays: Sequence of arrays of the same shape\n",
    "    axis: Axis in the resultant array along which the input arrays are stacked\n",
    "\"\"\"\n",
    "stack_list = [a, b, c]\n",
    "print(\"axis0\\n\", np.stack(stack_list, axis=0))\n",
    "print(\"axis1\\n\", np.stack(stack_list, axis=1))"
   ]
  },
  {
   "cell_type": "code",
   "execution_count": 54,
   "metadata": {},
   "outputs": [
    {
     "data": {
      "text/plain": [
       "True"
      ]
     },
     "execution_count": 54,
     "metadata": {},
     "output_type": "execute_result"
    }
   ],
   "source": [
    "\"\"\"\n",
    "numpy.hstack\n",
    "    Variants of numpy.stack function to stack so as to make a single array horizontally.\n",
    "\"\"\"\n",
    "(np.hstack((a,b,c)) != np.concatenate((a,b,c), axis=1)).sum().sum() == 0\n",
    "# same as concatenate axis=1"
   ]
  },
  {
   "cell_type": "code",
   "execution_count": 57,
   "metadata": {},
   "outputs": [
    {
     "data": {
      "text/plain": [
       "True"
      ]
     },
     "execution_count": 57,
     "metadata": {},
     "output_type": "execute_result"
    }
   ],
   "source": [
    "\"\"\"\n",
    "numpy.vstack\n",
    "    Variants of numpy.stack function to stack so as to make a single array vertically.\n",
    "\"\"\"\n",
    "(np.vstack((a,b,c)) != np.concatenate((a,b,c), axis=0)).sum().sum() == 0\n",
    "# same as concatenate axis=0"
   ]
  },
  {
   "cell_type": "code",
   "execution_count": null,
   "metadata": {},
   "outputs": [],
   "source": []
  }
 ],
 "metadata": {
  "kernelspec": {
   "display_name": "Python 3",
   "language": "python",
   "name": "python3"
  },
  "language_info": {
   "codemirror_mode": {
    "name": "ipython",
    "version": 3
   },
   "file_extension": ".py",
   "mimetype": "text/x-python",
   "name": "python",
   "nbconvert_exporter": "python",
   "pygments_lexer": "ipython3",
   "version": "3.7.1"
  }
 },
 "nbformat": 4,
 "nbformat_minor": 2
}
