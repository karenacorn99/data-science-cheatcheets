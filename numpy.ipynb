{
 "cells": [
  {
   "cell_type": "markdown",
   "metadata": {},
   "source": [
    "## Comprehensive Numpy Usage & Examples ##"
   ]
  },
  {
   "cell_type": "code",
   "execution_count": 1,
   "metadata": {},
   "outputs": [],
   "source": [
    "import numpy as np"
   ]
  },
  {
   "cell_type": "markdown",
   "metadata": {},
   "source": [
    "#### Creation ####"
   ]
  },
  {
   "cell_type": "code",
   "execution_count": 14,
   "metadata": {},
   "outputs": [
    {
     "name": "stdout",
     "output_type": "stream",
     "text": [
      "<class 'numpy.ndarray'>\n",
      "<class 'numpy.ndarray'>\n"
     ]
    },
    {
     "data": {
      "text/plain": [
       "array([[1, 2, 3, 4]])"
      ]
     },
     "execution_count": 14,
     "metadata": {},
     "output_type": "execute_result"
    }
   ],
   "source": [
    "a = np.array([[1,2],[3,4]])\n",
    "print(type(a))\n",
    "print(type(a[0]))\n",
    "b = np.array([1,2,3,4], ndmin=2)\n",
    "b"
   ]
  },
  {
   "cell_type": "code",
   "execution_count": 38,
   "metadata": {},
   "outputs": [
    {
     "data": {
      "text/plain": [
       "array([[0, 0, 0],\n",
       "       [0, 0, 0]])"
      ]
     },
     "execution_count": 38,
     "metadata": {},
     "output_type": "execute_result"
    }
   ],
   "source": [
    "'''\n",
    "numpy.empty(shape, dtype = float, order = 'C')\n",
    "'''\n",
    "a = np.empty((2, 3), dtype=int)\n",
    "a"
   ]
  },
  {
   "cell_type": "code",
   "execution_count": null,
   "metadata": {},
   "outputs": [],
   "source": [
    "'''\n",
    "numpy.zeros(shape, dtype = float, order = 'C')\n",
    "numpy.ones(shape, dtype = None, order = 'C')\n",
    "'''"
   ]
  },
  {
   "cell_type": "markdown",
   "metadata": {},
   "source": [
    "#### Attributes ####"
   ]
  },
  {
   "cell_type": "code",
   "execution_count": 35,
   "metadata": {},
   "outputs": [
    {
     "data": {
      "text/plain": [
       "(2, 2)"
      ]
     },
     "execution_count": 35,
     "metadata": {},
     "output_type": "execute_result"
    }
   ],
   "source": [
    "# shape\n",
    "b.shape"
   ]
  },
  {
   "cell_type": "code",
   "execution_count": 18,
   "metadata": {},
   "outputs": [
    {
     "data": {
      "text/plain": [
       "array([[1, 2],\n",
       "       [3, 4]])"
      ]
     },
     "execution_count": 18,
     "metadata": {},
     "output_type": "execute_result"
    }
   ],
   "source": [
    "b.shape = (2,2) # equivalent to reshape\n",
    "b"
   ]
  },
  {
   "cell_type": "code",
   "execution_count": 26,
   "metadata": {},
   "outputs": [
    {
     "name": "stdout",
     "output_type": "stream",
     "text": [
      "[0 1 2 3 4 5]\n"
     ]
    },
    {
     "data": {
      "text/plain": [
       "3"
      ]
     },
     "execution_count": 26,
     "metadata": {},
     "output_type": "execute_result"
    }
   ],
   "source": [
    "# ndim\n",
    "a = np.arange(6)\n",
    "print(a)\n",
    "a = a.reshape((2, 3, 1))\n",
    "a.ndim"
   ]
  },
  {
   "cell_type": "code",
   "execution_count": 27,
   "metadata": {},
   "outputs": [
    {
     "data": {
      "text/plain": [
       "8"
      ]
     },
     "execution_count": 27,
     "metadata": {},
     "output_type": "execute_result"
    }
   ],
   "source": [
    "# itemsize\n",
    "a.itemsize"
   ]
  },
  {
   "cell_type": "code",
   "execution_count": 34,
   "metadata": {},
   "outputs": [
    {
     "data": {
      "text/plain": [
       "  C_CONTIGUOUS : True\n",
       "  F_CONTIGUOUS : False\n",
       "  OWNDATA : False\n",
       "  WRITEABLE : True\n",
       "  ALIGNED : True\n",
       "  WRITEBACKIFCOPY : False\n",
       "  UPDATEIFCOPY : False"
      ]
     },
     "execution_count": 34,
     "metadata": {},
     "output_type": "execute_result"
    }
   ],
   "source": [
    "# flags\n",
    "a.flags"
   ]
  },
  {
   "cell_type": "markdown",
   "metadata": {},
   "source": [
    "#### Array from Existing Data ####"
   ]
  },
  {
   "cell_type": "code",
   "execution_count": 9,
   "metadata": {},
   "outputs": [
    {
     "name": "stdout",
     "output_type": "stream",
     "text": [
      "[1 2 3]\n",
      "[(1, 2, 3) (4, 5)]\n",
      "<class 'tuple'>\n"
     ]
    }
   ],
   "source": [
    "# numpy.asarray(a, dtype = None, order = None)\n",
    "a = (1, 2, 3)\n",
    "print(np.asarray(a))\n",
    "b = [(1,2,3),(4,5)]\n",
    "b = np.asarray(b, dtype=object)\n",
    "print(b) # ragged array: specify dtype\n",
    "print(type(b[0]))"
   ]
  },
  {
   "cell_type": "code",
   "execution_count": 18,
   "metadata": {},
   "outputs": [
    {
     "data": {
      "text/plain": [
       "array([b'H', b'e', b'l', b'l', b'o', b' ', b'W', b'o', b'r', b'l', b'd'],\n",
       "      dtype='|S1')"
      ]
     },
     "execution_count": 18,
     "metadata": {},
     "output_type": "execute_result"
    }
   ],
   "source": [
    "\"\"\"\n",
    "numpy.frombuffer(buffer, dtype = float, count = -1, offset = 0)\n",
    "    This function interprets a buffer as one-dimensional array.\n",
    "    count: The number of items to read, default -1 means all data\n",
    "    offset: The starting position to read from. Default is 0\n",
    "\"\"\" \n",
    "s = b'Hello World'\n",
    "a = np.frombuffer(s, dtype='S1')\n",
    "a"
   ]
  },
  {
   "cell_type": "code",
   "execution_count": 27,
   "metadata": {},
   "outputs": [
    {
     "data": {
      "text/plain": [
       "array([0, 1, 2, 3, 4], dtype=int32)"
      ]
     },
     "execution_count": 27,
     "metadata": {},
     "output_type": "execute_result"
    }
   ],
   "source": [
    "\"\"\"\n",
    "numpy.fromiter(iterable, dtype, count=-1)\n",
    "    count: The number of items to be read from iterator. Default is -1 which means all data to be read\n",
    "\"\"\"\n",
    "i = range(5) # i = iter(range(5))\n",
    "np.fromiter(i, dtype=np.int32)\n"
   ]
  },
  {
   "cell_type": "markdown",
   "metadata": {},
   "source": [
    "#### Array from Numerical Ranges ####"
   ]
  },
  {
   "cell_type": "code",
   "execution_count": 31,
   "metadata": {},
   "outputs": [
    {
     "data": {
      "text/plain": [
       "array([10. , 13.1, 16.2, 19.3, 22.4])"
      ]
     },
     "execution_count": 31,
     "metadata": {},
     "output_type": "execute_result"
    }
   ],
   "source": [
    "# numpy.arange(start, stop, step, dtype)\n",
    "a = np.arange(10, 25, 3.1, dtype=np.float64)\n",
    "a"
   ]
  },
  {
   "cell_type": "code",
   "execution_count": 34,
   "metadata": {},
   "outputs": [
    {
     "data": {
      "text/plain": [
       "array([10. , 12.5, 15. , 17.5, 20. ])"
      ]
     },
     "execution_count": 34,
     "metadata": {},
     "output_type": "execute_result"
    }
   ],
   "source": [
    "\"\"\" \n",
    "numpy.linspace(start, stop, num, endpoint, retstep, dtype)\n",
    "    stop: The end value of the sequence, included in the sequence if endpoint set to true\n",
    "    num: The number of evenly spaced samples to be generated. Default is 50\n",
    "    endpoint: True by default, hence the stop value is included in the sequence. If false, it is not included\n",
    "    retstep: If true, returns samples and step between the consecutive numbers\n",
    "\"\"\"\n",
    "# similar to arange() function, instead of step size, \n",
    "# the number of evenly spaced values between the interval is specified\n",
    "x = np.linspace(10, 20, 5)\n",
    "x\n"
   ]
  },
  {
   "cell_type": "code",
   "execution_count": null,
   "metadata": {},
   "outputs": [],
   "source": [
    "# numpy.logspace(start, stop, num, endpoint, base, dtype)\n"
   ]
  },
  {
   "cell_type": "markdown",
   "metadata": {},
   "source": [
    "#### Indexing & Slicing ####"
   ]
  },
  {
   "cell_type": "code",
   "execution_count": 2,
   "metadata": {},
   "outputs": [
    {
     "name": "stdout",
     "output_type": "stream",
     "text": [
      "[ 1  2  3  4  5  6  7  8  9 10 11 12 13 14 15 16 17 18 19]\n"
     ]
    },
    {
     "data": {
      "text/plain": [
       "array([3, 5, 7])"
      ]
     },
     "execution_count": 2,
     "metadata": {},
     "output_type": "execute_result"
    }
   ],
   "source": [
    "a = np.arange(1, 20)\n",
    "s = slice(2, 7, 2) # index\n",
    "print(a)\n",
    "a[s]"
   ]
  },
  {
   "cell_type": "code",
   "execution_count": 5,
   "metadata": {},
   "outputs": [
    {
     "data": {
      "text/plain": [
       "array([3, 5, 7])"
      ]
     },
     "execution_count": 5,
     "metadata": {},
     "output_type": "execute_result"
    }
   ],
   "source": [
    " a[2:7:2] # [start:stop:step]"
   ]
  },
  {
   "cell_type": "code",
   "execution_count": 6,
   "metadata": {},
   "outputs": [
    {
     "data": {
      "text/plain": [
       "array([[1, 2, 3],\n",
       "       [3, 4, 5],\n",
       "       [4, 5, 6]])"
      ]
     },
     "execution_count": 6,
     "metadata": {},
     "output_type": "execute_result"
    }
   ],
   "source": [
    "a = np.array([[1,2,3],[3,4,5],[4,5,6]]) \n",
    "a"
   ]
  },
  {
   "cell_type": "code",
   "execution_count": 11,
   "metadata": {},
   "outputs": [
    {
     "data": {
      "text/plain": [
       "array([3, 4, 5])"
      ]
     },
     "execution_count": 11,
     "metadata": {},
     "output_type": "execute_result"
    }
   ],
   "source": [
    "a[1,...]"
   ]
  },
  {
   "cell_type": "code",
   "execution_count": 12,
   "metadata": {},
   "outputs": [
    {
     "data": {
      "text/plain": [
       "array([2, 4, 5])"
      ]
     },
     "execution_count": 12,
     "metadata": {},
     "output_type": "execute_result"
    }
   ],
   "source": [
    "a[...,1]"
   ]
  },
  {
   "cell_type": "code",
   "execution_count": 13,
   "metadata": {},
   "outputs": [
    {
     "data": {
      "text/plain": [
       "array([[2, 3],\n",
       "       [4, 5],\n",
       "       [5, 6]])"
      ]
     },
     "execution_count": 13,
     "metadata": {},
     "output_type": "execute_result"
    }
   ],
   "source": [
    "a[..., 1:]"
   ]
  },
  {
   "cell_type": "code",
   "execution_count": 4,
   "metadata": {},
   "outputs": [
    {
     "data": {
      "text/plain": [
       "array([1, 4, 5])"
      ]
     },
     "execution_count": 4,
     "metadata": {},
     "output_type": "execute_result"
    }
   ],
   "source": [
    "x = np.array([[1, 2], [3, 4], [5, 6]]) \n",
    "y = x[[0,1,2], [0,1,0]] \n",
    "y\n",
    "# selects elements at (0,0), (1,1), (2,0)"
   ]
  },
  {
   "cell_type": "code",
   "execution_count": 12,
   "metadata": {},
   "outputs": [
    {
     "name": "stdout",
     "output_type": "stream",
     "text": [
      "[[ 0  1  2]\n",
      " [ 3  4  5]\n",
      " [ 6  7  8]\n",
      " [ 9 10 11]]\n"
     ]
    },
    {
     "data": {
      "text/plain": [
       "array([[ 0,  2],\n",
       "       [ 9, 11]])"
      ]
     },
     "execution_count": 12,
     "metadata": {},
     "output_type": "execute_result"
    }
   ],
   "source": [
    "x = np.array([[ 0,  1,  2],[ 3,  4,  5],[ 6,  7,  8],[ 9, 10, 11]]) \n",
    "print(x)\n",
    "rows = np.array([[0,0],[3,3]])\n",
    "cols = np.array([[0,2],[0,2]]) \n",
    "y = x[rows,cols] # (0,0), (0,2), (3,0), (3,2)\n",
    "y"
   ]
  },
  {
   "cell_type": "code",
   "execution_count": 11,
   "metadata": {},
   "outputs": [
    {
     "data": {
      "text/plain": [
       "array([[ 4,  5],\n",
       "       [ 7,  8],\n",
       "       [10, 11]])"
      ]
     },
     "execution_count": 11,
     "metadata": {},
     "output_type": "execute_result"
    }
   ],
   "source": [
    "z = x[1:, 1:3]\n",
    "z"
   ]
  },
  {
   "cell_type": "code",
   "execution_count": 16,
   "metadata": {},
   "outputs": [
    {
     "data": {
      "text/plain": [
       "array([[ 3,  5],\n",
       "       [ 6,  8],\n",
       "       [ 9, 11]])"
      ]
     },
     "execution_count": 16,
     "metadata": {},
     "output_type": "execute_result"
    }
   ],
   "source": [
    "x[1:,[0,2]]"
   ]
  },
  {
   "cell_type": "code",
   "execution_count": 18,
   "metadata": {},
   "outputs": [
    {
     "data": {
      "text/plain": [
       "array([ 6,  7,  8,  9, 10, 11])"
      ]
     },
     "execution_count": 18,
     "metadata": {},
     "output_type": "execute_result"
    }
   ],
   "source": [
    "# boolean array indexing\n",
    "x[x>5]"
   ]
  },
  {
   "cell_type": "code",
   "execution_count": 20,
   "metadata": {},
   "outputs": [
    {
     "data": {
      "text/plain": [
       "array([nan,  1.,  2., nan,  3.,  4.,  5.])"
      ]
     },
     "execution_count": 20,
     "metadata": {},
     "output_type": "execute_result"
    }
   ],
   "source": [
    "a = np.array([np.nan, 1,2,np.nan,3,4,5]) \n",
    "a"
   ]
  },
  {
   "cell_type": "code",
   "execution_count": 25,
   "metadata": {},
   "outputs": [
    {
     "data": {
      "text/plain": [
       "array([1., 2., 3., 4., 5.])"
      ]
     },
     "execution_count": 25,
     "metadata": {},
     "output_type": "execute_result"
    }
   ],
   "source": [
    "a[np.isnan(a) == False]\n",
    "a[~np.isnan(a)]"
   ]
  },
  {
   "cell_type": "code",
   "execution_count": 29,
   "metadata": {},
   "outputs": [
    {
     "data": {
      "text/plain": [
       "array([2. +6.j, 3.5+5.j])"
      ]
     },
     "execution_count": 29,
     "metadata": {},
     "output_type": "execute_result"
    }
   ],
   "source": [
    "a = np.array([1, 2+6j, 5, 3.5+5j]) \n",
    "a[np.iscomplex(a)]"
   ]
  },
  {
   "cell_type": "markdown",
   "metadata": {},
   "source": [
    "#### Masked Arrays ####\n",
    "handle incomplete or invalid data "
   ]
  },
  {
   "cell_type": "code",
   "execution_count": 36,
   "metadata": {},
   "outputs": [
    {
     "name": "stdout",
     "output_type": "stream",
     "text": [
      "[1 2 3 -- 5]\n"
     ]
    },
    {
     "data": {
      "text/plain": [
       "2.75"
      ]
     },
     "execution_count": 36,
     "metadata": {},
     "output_type": "execute_result"
    }
   ],
   "source": [
    "'''\n",
    "https://numpy.org/doc/stable/reference/maskedarray.generic.html\n",
    "A mask is either nomask, indicating that no value of the associated array is invalid, \n",
    "or an array of booleans that determines for each element of the associated array whether the value is valid or not.\n",
    "'''\n",
    "import numpy.ma as ma\n",
    "x = np.array([1,2,3,-1,5])\n",
    "mx = ma.masked_array(x, mask=x<0)\n",
    "print(mx)\n",
    "mx.mean()"
   ]
  },
  {
   "cell_type": "code",
   "execution_count": 37,
   "metadata": {},
   "outputs": [
    {
     "data": {
      "text/plain": [
       "masked_array(data=[(1, 1.0), (2, 2.0)],\n",
       "             mask=[(False, False), (False, False)],\n",
       "       fill_value=(999999, 1.e+20),\n",
       "            dtype=[('a', '<i8'), ('b', '<f8')])"
      ]
     },
     "execution_count": 37,
     "metadata": {},
     "output_type": "execute_result"
    }
   ],
   "source": [
    "x = np.array([(1, 1.), (2, 2.)], dtype=[('a',int), ('b', float)])\n",
    "x.view(ma.MaskedArray)"
   ]
  },
  {
   "cell_type": "markdown",
   "metadata": {},
   "source": [
    "#### Broadcasting ####"
   ]
  },
  {
   "cell_type": "code",
   "execution_count": 3,
   "metadata": {},
   "outputs": [
    {
     "data": {
      "text/plain": [
       "array([ 10,  40,  90, 160])"
      ]
     },
     "execution_count": 3,
     "metadata": {},
     "output_type": "execute_result"
    }
   ],
   "source": [
    "# element-wise operation with arrays of same size\n",
    "a = np.array([1,2,3,4]) \n",
    "b = np.array([10,20,30,40]) \n",
    "a * b "
   ]
  },
  {
   "cell_type": "code",
   "execution_count": 8,
   "metadata": {},
   "outputs": [
    {
     "data": {
      "text/plain": [
       "array([[ 3,  5,  7],\n",
       "       [ 6,  8, 10],\n",
       "       [ 9, 11, 13]])"
      ]
     },
     "execution_count": 8,
     "metadata": {},
     "output_type": "execute_result"
    }
   ],
   "source": [
    "# diff dim:\n",
    "# smaller array is broadcast to the size of larger array\n",
    "a = np.array([1,2,3])\n",
    "b = np.array([[2,3,4],[5,6,7],[8,9,10]])\n",
    "a + b"
   ]
  },
  {
   "cell_type": "markdown",
   "metadata": {},
   "source": [
    "#### Iterating OverArray ####"
   ]
  },
  {
   "cell_type": "code",
   "execution_count": 11,
   "metadata": {},
   "outputs": [
    {
     "data": {
      "text/plain": [
       "array([[ 0,  3,  6,  9, 12],\n",
       "       [15, 18, 21, 24, 27],\n",
       "       [30, 33, 36, 39, 42],\n",
       "       [45, 48, 51, 54, 57]])"
      ]
     },
     "execution_count": 11,
     "metadata": {},
     "output_type": "execute_result"
    }
   ],
   "source": [
    "# numpy.nditer: multidimensional iterator \n",
    "a = np.arange(0, 60, 3).reshape(4,-1)\n",
    "a"
   ]
  },
  {
   "cell_type": "code",
   "execution_count": 17,
   "metadata": {},
   "outputs": [
    {
     "name": "stdout",
     "output_type": "stream",
     "text": [
      "0 3 6 9 12 15 18 21 24 27 30 33 36 39 42 45 48 51 54 57 "
     ]
    }
   ],
   "source": [
    "for x in np.nditer(a):\n",
    "    print(x, end=' ')"
   ]
  },
  {
   "cell_type": "code",
   "execution_count": 18,
   "metadata": {},
   "outputs": [
    {
     "name": "stdout",
     "output_type": "stream",
     "text": [
      "0 3 6 9 12 15 18 21 24 27 30 33 36 39 42 45 48 51 54 57 "
     ]
    }
   ],
   "source": [
    "for x in np.nditer(a.T):\n",
    "    print(x, end=' ')"
   ]
  },
  {
   "cell_type": "code",
   "execution_count": 20,
   "metadata": {},
   "outputs": [
    {
     "name": "stdout",
     "output_type": "stream",
     "text": [
      "0 15 30 45 3 18 33 48 6 21 36 51 9 24 39 54 12 27 42 57 "
     ]
    }
   ],
   "source": [
    "for x in np.nditer(a, order='F'):\n",
    "    print(x, end=' ')"
   ]
  },
  {
   "cell_type": "code",
   "execution_count": 25,
   "metadata": {},
   "outputs": [
    {
     "data": {
      "text/plain": [
       "array([[ 2,  4,  6],\n",
       "       [ 8, 10, 12],\n",
       "       [14, 16, 18]])"
      ]
     },
     "execution_count": 25,
     "metadata": {},
     "output_type": "execute_result"
    }
   ],
   "source": [
    "# op_flags\n",
    "# default value is read-only, can be set to read-write or write-only\n",
    "a = np.array([[1,2,3],[4,5,6],[7,8,9]])\n",
    "for x in np.nditer(a, op_flags=['readwrite']):\n",
    "    x[...] = x*2\n",
    "a"
   ]
  },
  {
   "cell_type": "code",
   "execution_count": 30,
   "metadata": {},
   "outputs": [
    {
     "name": "stdout",
     "output_type": "stream",
     "text": [
      " 0: 1\t 5: 2\t10: 3\t15: 4\t20: 1\t25: 2\t30: 3\t35: 4\t40: 1\t45: 2\t50: 3\t55: 4\t"
     ]
    }
   ],
   "source": [
    "# broadcasting iteration\n",
    "a = np.arange(0,60,5) \n",
    "a = a.reshape(3,4) \n",
    "b = np.array([1, 2, 3, 4])\n",
    "for x, y in np.nditer([a,b]):\n",
    "    print(\"{:2}:{:2}\".format(x, y), end='\\t')"
   ]
  },
  {
   "cell_type": "markdown",
   "metadata": {},
   "source": [
    "#### Changing Shape ####"
   ]
  },
  {
   "cell_type": "code",
   "execution_count": 32,
   "metadata": {},
   "outputs": [
    {
     "name": "stdout",
     "output_type": "stream",
     "text": [
      "orginal array\n",
      " [0 1 2 3 4 5 6 7]\n",
      "reshaped array\n",
      " [[0 1]\n",
      " [2 3]\n",
      " [4 5]\n",
      " [6 7]]\n",
      "reshaped array\n",
      " [[[0]\n",
      "  [1]\n",
      "  [2]\n",
      "  [3]]\n",
      "\n",
      " [[4]\n",
      "  [5]\n",
      "  [6]\n",
      "  [7]]]\n"
     ]
    },
    {
     "data": {
      "text/plain": [
       "array([[0, 1],\n",
       "       [2, 3],\n",
       "       [4, 5],\n",
       "       [6, 7]])"
      ]
     },
     "execution_count": 32,
     "metadata": {},
     "output_type": "execute_result"
    }
   ],
   "source": [
    "\"\"\"\n",
    "numpy.reshape(arr, newshape, order')\n",
    "    arr: Array to be reshaped\n",
    "    newshape: int or tuple of int. New shape should be compatible to the original shape\n",
    "    order: 'C' for C style, 'F' for Fortran style, 'A' means Fortran like order if an array is stored in Fortran-like contiguous memory, C style otherwise\n",
    "\"\"\"\n",
    "a = np.arange(8)\n",
    "print('orginal array\\n', a)\n",
    "b = np.reshape(a, (4,2))\n",
    "print('reshaped array\\n', b)\n",
    "c = b.reshape((2,4,1))\n",
    "print('reshaped array\\n', c)\n",
    "b.reshape((4,-1))"
   ]
  },
  {
   "cell_type": "code",
   "execution_count": 16,
   "metadata": {},
   "outputs": [
    {
     "name": "stdout",
     "output_type": "stream",
     "text": [
      "original array\n",
      " [[[0]\n",
      "  [1]\n",
      "  [2]\n",
      "  [3]]\n",
      "\n",
      " [[4]\n",
      "  [5]\n",
      "  [6]\n",
      "  [7]]]\n",
      "flattened array\n",
      " [0 1 2 3 4 5 6 7]\n"
     ]
    }
   ],
   "source": [
    "\"\"\"\n",
    "np.ndarray.flat\n",
    "    This function returns a 1-D iterator over the array. It behaves similar to Python's built-in iterator.\n",
    "\"\"\"\n",
    "print('original array\\n', c)\n",
    "flat_array = c.flat\n",
    "print('flattened array\\n', np.array(flat_array))"
   ]
  },
  {
   "cell_type": "code",
   "execution_count": 22,
   "metadata": {},
   "outputs": [
    {
     "name": "stdout",
     "output_type": "stream",
     "text": [
      "[[[0]\n",
      "  [1]\n",
      "  [2]\n",
      "  [3]]\n",
      "\n",
      " [[4]\n",
      "  [5]\n",
      "  [6]\n",
      "  [7]]]\n"
     ]
    }
   ],
   "source": [
    "\"\"\"\n",
    "ndarray.flatten(order)\n",
    "    This function returns a copy of an array collapsed into one dimension. \n",
    "    order: see reshape\n",
    "\"\"\"\n",
    "flattened_array = c.flatten()\n",
    "flattened_array[0] = 1000\n",
    "print(c)"
   ]
  },
  {
   "cell_type": "code",
   "execution_count": 26,
   "metadata": {},
   "outputs": [
    {
     "name": "stdout",
     "output_type": "stream",
     "text": [
      "[[[1000]\n",
      "  [   1]\n",
      "  [   2]\n",
      "  [   3]]\n",
      "\n",
      " [[   4]\n",
      "  [   5]\n",
      "  [   6]\n",
      "  [   7]]]\n"
     ]
    }
   ],
   "source": [
    "\"\"\"\n",
    "numpy.ravel(a, order)\n",
    "    This function returns a flattened one-dimensional array. \n",
    "    A copy is made only if needed. \n",
    "    The returned array will have the same type as that of the input array. \n",
    "\"\"\"\n",
    "ravelled_array = c.ravel()\n",
    "ravelled_array[0] = 1000\n",
    "print(c)\n",
    "# difference between flatten & ravel():\n",
    "# flatten always return a copy, ravel may not\n",
    "# ie whether modifying array changes original array"
   ]
  },
  {
   "cell_type": "markdown",
   "metadata": {},
   "source": [
    "#### Transpose Operations ####"
   ]
  },
  {
   "cell_type": "code",
   "execution_count": 40,
   "metadata": {},
   "outputs": [
    {
     "name": "stdout",
     "output_type": "stream",
     "text": [
      "original\n",
      " [[[ 0]\n",
      "  [ 1]\n",
      "  [ 2]\n",
      "  [ 3]]\n",
      "\n",
      " [[ 4]\n",
      "  [ 5]\n",
      "  [ 6]\n",
      "  [ 7]]\n",
      "\n",
      " [[ 8]\n",
      "  [ 9]\n",
      "  [10]\n",
      "  [11]]]\n",
      "transposed\n",
      " [[[ 0  4  8]\n",
      "  [ 1  5  9]\n",
      "  [ 2  6 10]\n",
      "  [ 3  7 11]]]\n"
     ]
    }
   ],
   "source": [
    "\"\"\"\n",
    "numpy.transpose(arr, axes)\n",
    "    axes: List of ints, corresponding to the dimensions. By default, the dimensions are reversed\n",
    "\"\"\"\n",
    "a = np.arange(12).reshape((3,4,1))\n",
    "print('original\\n', a)\n",
    "a_t = np.transpose(a, axes=[2,1,0])\n",
    "print('transposed\\n', a_t)"
   ]
  },
  {
   "cell_type": "code",
   "execution_count": 41,
   "metadata": {},
   "outputs": [
    {
     "data": {
      "text/plain": [
       "array([[[ 0,  4,  8],\n",
       "        [ 1,  5,  9],\n",
       "        [ 2,  6, 10],\n",
       "        [ 3,  7, 11]]])"
      ]
     },
     "execution_count": 41,
     "metadata": {},
     "output_type": "execute_result"
    }
   ],
   "source": [
    "\"\"\"\n",
    "numpy.ndarray.T\n",
    "    This function belongs to ndarray class. It behaves similar to numpy.transpose.\n",
    "\"\"\"\n",
    "a.T"
   ]
  },
  {
   "cell_type": "code",
   "execution_count": 49,
   "metadata": {},
   "outputs": [
    {
     "name": "stdout",
     "output_type": "stream",
     "text": [
      "orginal\n",
      " (3, 4, 5, 6)\n",
      "rolled\n",
      " (3, 6, 4, 5)\n"
     ]
    }
   ],
   "source": [
    "\"\"\"\n",
    "numpy.rollaxis(arr, axis, start)\n",
    "    This function rolls the specified axis backwards, until it lies in a specified position. \n",
    "    axis: Axis to roll backwards. The position of the other axes do not change relative to one another\n",
    "    start: Zero by default leading to the complete roll. Rolls until it reaches the specified position\n",
    "\"\"\"\n",
    "a = np.ones((3,4,5,6))\n",
    "print('orginal\\n', a.shape)\n",
    "rolled = np.rollaxis(a, 3, 1)\n",
    "print('rolled\\n', rolled.shape)\n"
   ]
  },
  {
   "cell_type": "code",
   "execution_count": 50,
   "metadata": {},
   "outputs": [
    {
     "name": "stdout",
     "output_type": "stream",
     "text": [
      "original (2, 3, 4, 6)\n",
      "swapped (6, 3, 4, 2)\n"
     ]
    }
   ],
   "source": [
    "\"\"\"\n",
    "numpy.swapaxes(arr, axis1, axis2)\n",
    "    This function interchanges the two axes of an array.\n",
    "\"\"\"\n",
    "a = np.ones((2,3,4,6))\n",
    "print('original', a.shape)\n",
    "b = np.swapaxes(a, 0, 3)\n",
    "print('swapped', b.shape)"
   ]
  },
  {
   "cell_type": "markdown",
   "metadata": {},
   "source": [
    "#### Changing Dimensions ####"
   ]
  },
  {
   "cell_type": "code",
   "execution_count": null,
   "metadata": {},
   "outputs": [],
   "source": []
  },
  {
   "cell_type": "markdown",
   "metadata": {},
   "source": [
    "#### Array Manipulation ####"
   ]
  },
  {
   "cell_type": "code",
   "execution_count": 39,
   "metadata": {},
   "outputs": [
    {
     "name": "stdout",
     "output_type": "stream",
     "text": [
      "axis=0 concatenation\n",
      "[[ 1  2]\n",
      " [ 3  4]\n",
      " [ 5  6]\n",
      " [ 7  8]\n",
      " [ 9 10]\n",
      " [11 12]]\n",
      "axis=1 concatenation\n",
      "[[ 1  2  5  6  9 10]\n",
      " [ 3  4  7  8 11 12]]\n"
     ]
    }
   ],
   "source": [
    "\"\"\" \n",
    "numpy.concatenate((a1, a2, ...), axis)\n",
    "    (a1, a2, ...): Sequence of arrays of the same type\n",
    "    axis: Axis along which arrays have to be joined. Default is 0\n",
    "\"\"\"\n",
    "a = np.array([[1,2],[3,4]])\n",
    "b = np.array([[5,6],[7,8]])\n",
    "c = np.array([[9,10],[11, 12]])\n",
    "join_list = [a, b, c]\n",
    "print('axis=0 concatenation')\n",
    "print(np.concatenate(join_list, axis=0))\n",
    "print('axis=1 concatenation')\n",
    "print(np.concatenate(join_list, axis=1))"
   ]
  },
  {
   "cell_type": "code",
   "execution_count": 38,
   "metadata": {},
   "outputs": [
    {
     "name": "stdout",
     "output_type": "stream",
     "text": [
      "axis0\n",
      " [[[1]\n",
      "  [2]]\n",
      "\n",
      " [[3]\n",
      "  [4]]\n",
      "\n",
      " [[5]\n",
      "  [6]]\n",
      "\n",
      " [[7]\n",
      "  [8]]]\n",
      "axis1\n",
      " [[[1]\n",
      "  [2]\n",
      "  [5]\n",
      "  [6]]\n",
      "\n",
      " [[3]\n",
      "  [4]\n",
      "  [7]\n",
      "  [8]]]\n",
      "axis2\n",
      " [[[1 5]\n",
      "  [2 6]]\n",
      "\n",
      " [[3 7]\n",
      "  [4 8]]]\n"
     ]
    }
   ],
   "source": [
    "d = np.array([[[1],[2]],[[3],[4]]])\n",
    "e = np.array([[[5],[6]],[[7],[8]]])\n",
    "print('axis0\\n', np.concatenate((d, e), axis=0))\n",
    "print('axis1\\n', np.concatenate((d, e), axis=1))\n",
    "print('axis2\\n', np.concatenate((d, e), axis=2))"
   ]
  },
  {
   "cell_type": "code",
   "execution_count": 37,
   "metadata": {},
   "outputs": [
    {
     "name": "stdout",
     "output_type": "stream",
     "text": [
      "axis0\n",
      " [[[ 1  2]\n",
      "  [ 3  4]]\n",
      "\n",
      " [[ 5  6]\n",
      "  [ 7  8]]\n",
      "\n",
      " [[ 9 10]\n",
      "  [11 12]]]\n",
      "axis1\n",
      " [[[ 1  2]\n",
      "  [ 5  6]\n",
      "  [ 9 10]]\n",
      "\n",
      " [[ 3  4]\n",
      "  [ 7  8]\n",
      "  [11 12]]]\n"
     ]
    }
   ],
   "source": [
    "\"\"\"\n",
    "numpy.stack(arrays, axis)\n",
    "    arrays: Sequence of arrays of the same shape\n",
    "    axis: Axis in the resultant array along which the input arrays are stacked\n",
    "\"\"\"\n",
    "stack_list = [a, b, c]\n",
    "print(\"axis0\\n\", np.stack(stack_list, axis=0))\n",
    "print(\"axis1\\n\", np.stack(stack_list, axis=1))"
   ]
  },
  {
   "cell_type": "code",
   "execution_count": 54,
   "metadata": {},
   "outputs": [
    {
     "data": {
      "text/plain": [
       "True"
      ]
     },
     "execution_count": 54,
     "metadata": {},
     "output_type": "execute_result"
    }
   ],
   "source": [
    "\"\"\"\n",
    "numpy.hstack\n",
    "    Variants of numpy.stack function to stack so as to make a single array horizontally.\n",
    "\"\"\"\n",
    "(np.hstack((a,b,c)) != np.concatenate((a,b,c), axis=1)).sum().sum() == 0\n",
    "# same as concatenate axis=1"
   ]
  },
  {
   "cell_type": "code",
   "execution_count": 57,
   "metadata": {},
   "outputs": [
    {
     "data": {
      "text/plain": [
       "True"
      ]
     },
     "execution_count": 57,
     "metadata": {},
     "output_type": "execute_result"
    }
   ],
   "source": [
    "\"\"\"\n",
    "numpy.vstack\n",
    "    Variants of numpy.stack function to stack so as to make a single array vertically.\n",
    "\"\"\"\n",
    "(np.vstack((a,b,c)) != np.concatenate((a,b,c), axis=0)).sum().sum() == 0\n",
    "# same as concatenate axis=0"
   ]
  },
  {
   "cell_type": "markdown",
   "metadata": {},
   "source": [
    "#### Binary Operators ####"
   ]
  },
  {
   "cell_type": "code",
   "execution_count": 33,
   "metadata": {},
   "outputs": [
    {
     "name": "stdout",
     "output_type": "stream",
     "text": [
      "0b1101 0b10001\n"
     ]
    },
    {
     "data": {
      "text/plain": [
       "1"
      ]
     },
     "execution_count": 33,
     "metadata": {},
     "output_type": "execute_result"
    }
   ],
   "source": [
    "# bitwise_and\n",
    "# bitwise_or\n",
    "# invert\n",
    "# left_shift\n",
    "# right_shift\n",
    "# example:\n",
    "a, b = 13, 17\n",
    "print(bin(a), bin(b))\n",
    "np.bitwise_and(a, b)"
   ]
  },
  {
   "cell_type": "markdown",
   "metadata": {},
   "source": [
    "#### String Functions ####"
   ]
  },
  {
   "cell_type": "code",
   "execution_count": 34,
   "metadata": {},
   "outputs": [],
   "source": [
    "# https://www.tutorialspoint.com/numpy/numpy_string_functions.htm"
   ]
  },
  {
   "cell_type": "code",
   "execution_count": 36,
   "metadata": {},
   "outputs": [
    {
     "name": "stdout",
     "output_type": "stream",
     "text": [
      "b'\\x88\\x85\\x93\\x93\\x96'\n"
     ]
    }
   ],
   "source": [
    "a = np.char.encode('hello', 'cp500')\n",
    "print(a)"
   ]
  },
  {
   "cell_type": "markdown",
   "metadata": {},
   "source": [
    "#### Mathematical functions ####"
   ]
  },
  {
   "cell_type": "code",
   "execution_count": 2,
   "metadata": {},
   "outputs": [
    {
     "data": {
      "text/plain": [
       "array([0.        , 0.5       , 0.70710678, 0.8660254 , 1.        ])"
      ]
     },
     "execution_count": 2,
     "metadata": {},
     "output_type": "execute_result"
    }
   ],
   "source": [
    "a = np.array([0,30,45,60,90])\n",
    "np.sin(a * np.pi / 180) # 180 = 1 radian"
   ]
  },
  {
   "cell_type": "code",
   "execution_count": 7,
   "metadata": {},
   "outputs": [
    {
     "name": "stdout",
     "output_type": "stream",
     "text": [
      "[  1.   6. 123.   1.  26.]\n",
      "[  1.    5.6 123.    0.6  25.5]\n",
      "[  0.  10. 120.   0.  30.]\n"
     ]
    }
   ],
   "source": [
    "# sin, cos, tan, arcsin, arccos, degrees\n",
    "# around\n",
    "a = np.array([1.0,5.55, 123, 0.567, 25.532])\n",
    "print(np.around(a))\n",
    "print(np.around(a, decimals=1))\n",
    "print(np.around(a, decimals=-1))"
   ]
  },
  {
   "cell_type": "code",
   "execution_count": 8,
   "metadata": {},
   "outputs": [],
   "source": [
    "# floor, ceil"
   ]
  },
  {
   "cell_type": "code",
   "execution_count": 9,
   "metadata": {},
   "outputs": [
    {
     "name": "stdout",
     "output_type": "stream",
     "text": [
      "[[0. 1. 2.]\n",
      " [3. 4. 5.]\n",
      " [6. 7. 8.]]\n",
      "[10 10 10]\n"
     ]
    }
   ],
   "source": [
    "# arithmetic operations\n",
    "a = np.arange(9, dtype = np.float_).reshape(3,3) \n",
    "b = np.array([10,10,10])\n",
    "print(a)\n",
    "print(b)"
   ]
  },
  {
   "cell_type": "code",
   "execution_count": 10,
   "metadata": {},
   "outputs": [
    {
     "data": {
      "text/plain": [
       "array([[10., 11., 12.],\n",
       "       [13., 14., 15.],\n",
       "       [16., 17., 18.]])"
      ]
     },
     "execution_count": 10,
     "metadata": {},
     "output_type": "execute_result"
    }
   ],
   "source": [
    "np.add(a,b) # subtract, multiply, divide"
   ]
  },
  {
   "cell_type": "code",
   "execution_count": 12,
   "metadata": {},
   "outputs": [
    {
     "data": {
      "text/plain": [
       "array([0])"
      ]
     },
     "execution_count": 12,
     "metadata": {},
     "output_type": "execute_result"
    }
   ],
   "source": [
    "a = np.array([0.25, 1.33, 1, 0, 100]) \n",
    "np.reciprocal([100])"
   ]
  },
  {
   "cell_type": "code",
   "execution_count": 15,
   "metadata": {},
   "outputs": [
    {
     "name": "stdout",
     "output_type": "stream",
     "text": [
      "[  4  27 625]\n",
      "[  8  27 125]\n"
     ]
    }
   ],
   "source": [
    "# power\n",
    "a = np.array([2, 3, 5])\n",
    "b = np.array([2, 3, 4])\n",
    "print(np.power(a, b))\n",
    "print(np.power(a, 3))"
   ]
  },
  {
   "cell_type": "code",
   "execution_count": 17,
   "metadata": {},
   "outputs": [
    {
     "name": "stdout",
     "output_type": "stream",
     "text": [
      "[1 0 2]\n",
      "[1 0 2]\n"
     ]
    }
   ],
   "source": [
    "# mod/remainder\n",
    "a = np.array([10, 20, 30])\n",
    "b = np.array([3, 5, 7])\n",
    "print(np.mod(a, b))\n",
    "print(np.remainder(a, b))"
   ]
  },
  {
   "cell_type": "markdown",
   "metadata": {},
   "source": [
    "#### Statistical Functions ####"
   ]
  },
  {
   "cell_type": "code",
   "execution_count": 5,
   "metadata": {},
   "outputs": [
    {
     "name": "stdout",
     "output_type": "stream",
     "text": [
      "[8 7 9]\n",
      "[7 8 9]\n"
     ]
    }
   ],
   "source": [
    "'''\n",
    "numpy.amin() and numpy.amax():\n",
    "    return the minimum and the maximum from the elements \n",
    "    in the given array along the specified axis\n",
    "'''\n",
    "a = np.array([[3,7,5],[8,4,3],[2,4,9]])\n",
    "print(np.max(a, axis=0))\n",
    "print(np.amax(a, axis=1))"
   ]
  },
  {
   "cell_type": "code",
   "execution_count": 10,
   "metadata": {},
   "outputs": [
    {
     "data": {
      "text/plain": [
       "array([[2, 3, 4],\n",
       "       [1, 4, 3]])"
      ]
     },
     "execution_count": 10,
     "metadata": {},
     "output_type": "execute_result"
    }
   ],
   "source": [
    "a = np.array([1,2,3])\n",
    "b = np.array([[2,3,4],[0,4,0]])\n",
    "np.maximum(a, b)"
   ]
  },
  {
   "cell_type": "code",
   "execution_count": 14,
   "metadata": {},
   "outputs": [
    {
     "name": "stdout",
     "output_type": "stream",
     "text": [
      "[[3 7 5]\n",
      " [8 4 3]\n",
      " [2 4 9]]\n",
      "7\n",
      "[6 3 6]\n",
      "[4 5 7]\n"
     ]
    }
   ],
   "source": [
    "'''\n",
    "numpy.ptp():\n",
    "    returns the range (maximum-minimum) of values along an axis.\n",
    "'''\n",
    "a = np.array([[3,7,5],[8,4,3],[2,4,9]]) \n",
    "print(a)\n",
    "print(np.ptp(a))\n",
    "print(np.ptp(a, axis=0))\n",
    "print(np.ptp(a, axis=1))"
   ]
  },
  {
   "cell_type": "code",
   "execution_count": 18,
   "metadata": {},
   "outputs": [
    {
     "name": "stdout",
     "output_type": "stream",
     "text": [
      "26.0\n",
      "[50. 40. 60.]\n",
      "[40. 20. 60.]\n"
     ]
    }
   ],
   "source": [
    "'''\n",
    "numpy.percentile(a, q, axis):\n",
    "    q: The percentile to compute must be between 0-100\n",
    "'''\n",
    "a = np.array([[30,40,70],[80,20,10],[50,90,60]])\n",
    "print(np.percentile(a, 20))\n",
    "print(np.percentile(a, 50, axis=0))\n",
    "print(np.percentile(a, 50, axis=1))"
   ]
  },
  {
   "cell_type": "code",
   "execution_count": null,
   "metadata": {},
   "outputs": [],
   "source": [
    "# np.median\n",
    "# np.mean\n",
    "# np.average -> weights\n",
    "# standard"
   ]
  },
  {
   "cell_type": "markdown",
   "metadata": {},
   "source": [
    "#### Sort, Search & Counting Functions ####"
   ]
  },
  {
   "cell_type": "code",
   "execution_count": 5,
   "metadata": {},
   "outputs": [
    {
     "name": "stdout",
     "output_type": "stream",
     "text": [
      "[[   1 -100    3]\n",
      " [   2   10    7]]\n",
      "[[   1    7   10]\n",
      " [-100    2    3]]\n"
     ]
    }
   ],
   "source": [
    "'''\n",
    "numpy.sort(a, axis, kind, order)\n",
    "    kind: quicksort by default\n",
    "'''\n",
    "a = np.array([[1,10,7], [2, -100,3]])\n",
    "print(np.sort(a, axis=0))\n",
    "print(np.sort(a, axis=1))"
   ]
  },
  {
   "cell_type": "code",
   "execution_count": 7,
   "metadata": {},
   "outputs": [
    {
     "data": {
      "text/plain": [
       "array([(b'amar', 27), (b'anil', 25), (b'raju', 21), (b'ravi', 17)],\n",
       "      dtype=[('name', 'S10'), ('age', '<i8')])"
      ]
     },
     "execution_count": 7,
     "metadata": {},
     "output_type": "execute_result"
    }
   ],
   "source": [
    "# Order parameter in sort function \n",
    "dt = np.dtype([('name', 'S10'),('age', int)]) \n",
    "a = np.array([(\"raju\",21),(\"anil\",25),(\"ravi\", 17), (\"amar\",27)], dtype = dt) \n",
    "np.sort(a, order='name')"
   ]
  },
  {
   "cell_type": "code",
   "execution_count": 13,
   "metadata": {},
   "outputs": [
    {
     "name": "stdout",
     "output_type": "stream",
     "text": [
      "[ 1  7 10]\n"
     ]
    },
    {
     "data": {
      "text/plain": [
       "array([[   1,    7,   10],\n",
       "       [-100,    2,    3]])"
      ]
     },
     "execution_count": 13,
     "metadata": {},
     "output_type": "execute_result"
    }
   ],
   "source": [
    "'''\n",
    "np.argsort():\n",
    "    return the array of indices of data\n",
    "'''\n",
    "a = np.array([[1,10,7], [2, -100,3]])\n",
    "indices = np.argsort(a)\n",
    "# use args to construct sorted array\n",
    "print(a[0][indices[0]])\n",
    "np.take_along_axis(a, indices, axis=1)"
   ]
  },
  {
   "cell_type": "code",
   "execution_count": 15,
   "metadata": {},
   "outputs": [
    {
     "name": "stdout",
     "output_type": "stream",
     "text": [
      "[3 1 0 2]\n"
     ]
    },
    {
     "data": {
      "text/plain": [
       "['amar, f.y.', 'anil, s.y.', 'raju, f.y.', 'ravi, s.y.']"
      ]
     },
     "execution_count": 15,
     "metadata": {},
     "output_type": "execute_result"
    }
   ],
   "source": [
    "'''\n",
    "np.lexsort():\n",
    "    performs an indirect sort using a sequence of keys\n",
    "'''\n",
    "nm = ('raju','anil','ravi','amar') \n",
    "dv = ('f.y.', 's.y.', 's.y.', 'f.y.') \n",
    "ind = np.lexsort((dv,nm)) \n",
    "print(ind)\n",
    "[nm[i] + \", \" + dv[i] for i in ind] "
   ]
  },
  {
   "cell_type": "code",
   "execution_count": 16,
   "metadata": {},
   "outputs": [],
   "source": [
    "# np.argmax() / np.argmin()\n",
    "# return the indices of maximum and minimum elements \n",
    "# respectively along the given axis\n"
   ]
  },
  {
   "cell_type": "code",
   "execution_count": 22,
   "metadata": {},
   "outputs": [
    {
     "name": "stdout",
     "output_type": "stream",
     "text": [
      "(array([0, 0, 1, 1, 2, 2]), array([0, 1, 1, 2, 0, 2]))\n",
      "[30 40 20 10 50 60]\n",
      "20\n",
      "[20]\n"
     ]
    }
   ],
   "source": [
    "# np.nonzero(): returns the indices of non-zero elements in the input array\n",
    "a = np.array([[30,40,0],[0,20,10],[50,0,60]]) \n",
    "print(np.nonzero(a))\n",
    "print(a[np.nonzero(a)])\n",
    "print(a[1, 1])\n",
    "print(a[[1], [1]])\n"
   ]
  },
  {
   "cell_type": "code",
   "execution_count": 4,
   "metadata": {},
   "outputs": [
    {
     "name": "stdout",
     "output_type": "stream",
     "text": [
      "[[0. 1. 2.]\n",
      " [3. 4. 5.]\n",
      " [6. 7. 8.]]\n",
      "[4. 5. 6. 7. 8.]\n"
     ]
    }
   ],
   "source": [
    "# np.where: returns the indices of elements in an input array \n",
    "# where the given condition is satisfied\n",
    "x = np.arange(9.).reshape(3, 3) \n",
    "print(x)\n",
    "print(x[np.where(x > 3)])"
   ]
  },
  {
   "cell_type": "code",
   "execution_count": 2,
   "metadata": {},
   "outputs": [
    {
     "name": "stdout",
     "output_type": "stream",
     "text": [
      "[[0. 1. 2.]\n",
      " [3. 4. 5.]\n",
      " [6. 7. 8.]]\n"
     ]
    }
   ],
   "source": [
    "# np.extract:\n",
    "# returns the elements satisfying any condition\n",
    "x = np.arange(9.).reshape(3, 3) \n",
    "print(x)\n"
   ]
  },
  {
   "cell_type": "markdown",
   "metadata": {},
   "source": [
    "#### Byte Swapping ####"
   ]
  },
  {
   "cell_type": "code",
   "execution_count": 6,
   "metadata": {},
   "outputs": [
    {
     "name": "stdout",
     "output_type": "stream",
     "text": [
      "['0x1', '0x100', '0x2233']\n",
      "['0x100', '0x1', '0x3322']\n"
     ]
    }
   ],
   "source": [
    "# numpy.ndarray.byteswap()\n",
    "# toggles between the two representations: bigendian and little-endian\n",
    "a = np.array([1, 256, 8755], dtype = np.int16) \n",
    "print(list(map(hex, a)))\n",
    "a.byteswap(True)\n",
    "print(list(map(hex, a)))"
   ]
  },
  {
   "cell_type": "markdown",
   "metadata": {},
   "source": [
    "#### Copies & Views ####"
   ]
  },
  {
   "cell_type": "code",
   "execution_count": 11,
   "metadata": {},
   "outputs": [
    {
     "name": "stdout",
     "output_type": "stream",
     "text": [
      "[0 1 2 3 4 5]\n",
      "140345385151720\n",
      "140345385151720\n",
      "(3, 2)\n"
     ]
    }
   ],
   "source": [
    "# copy: contents are physically stored in another location\n",
    "# view: a different view of the same memory content is provided\n",
    "a = np.arange(6)\n",
    "print(a)\n",
    "print(id(a))\n",
    "b = a\n",
    "print(id(b))\n",
    "b.shape = 3,2\n",
    "print(a.shape)\n",
    "# changes made to b is also made to a"
   ]
  },
  {
   "cell_type": "code",
   "execution_count": 16,
   "metadata": {},
   "outputs": [
    {
     "name": "stdout",
     "output_type": "stream",
     "text": [
      "140345385151984\n",
      "140345385151456\n",
      "[1 1 2 3 4 5]\n"
     ]
    }
   ],
   "source": [
    "# shallow copy\n",
    "a = np.arange(6)\n",
    "print(id(a))\n",
    "b = a.view()\n",
    "print(id(b))\n",
    "b[0] = 1\n",
    "print(a)"
   ]
  },
  {
   "cell_type": "code",
   "execution_count": 23,
   "metadata": {},
   "outputs": [
    {
     "name": "stdout",
     "output_type": "stream",
     "text": [
      "140345385151896\n",
      "[  1 100   2   3   4   5]\n",
      "[  1 100   2   3   4   5]\n"
     ]
    }
   ],
   "source": [
    "c = a[:] # create view\n",
    "print(id(c))\n",
    "c[1] = 100\n",
    "print(a)\n",
    "print(c)"
   ]
  },
  {
   "cell_type": "code",
   "execution_count": 25,
   "metadata": {},
   "outputs": [
    {
     "name": "stdout",
     "output_type": "stream",
     "text": [
      "140345385151984\n",
      "140345385152248\n",
      "[1000  100    2    3    4    5]\n",
      "[  1 100   2   3   4   5]\n"
     ]
    }
   ],
   "source": [
    "# deep copy\n",
    "d = a.copy()\n",
    "print(id(a))\n",
    "print(id(d))\n",
    "d[0] = 1000\n",
    "print(d)\n",
    "print(a) # do not share data"
   ]
  },
  {
   "cell_type": "code",
   "execution_count": null,
   "metadata": {},
   "outputs": [],
   "source": []
  }
 ],
 "metadata": {
  "kernelspec": {
   "display_name": "Python 3",
   "language": "python",
   "name": "python3"
  },
  "language_info": {
   "codemirror_mode": {
    "name": "ipython",
    "version": 3
   },
   "file_extension": ".py",
   "mimetype": "text/x-python",
   "name": "python",
   "nbconvert_exporter": "python",
   "pygments_lexer": "ipython3",
   "version": "3.7.1"
  }
 },
 "nbformat": 4,
 "nbformat_minor": 2
}
